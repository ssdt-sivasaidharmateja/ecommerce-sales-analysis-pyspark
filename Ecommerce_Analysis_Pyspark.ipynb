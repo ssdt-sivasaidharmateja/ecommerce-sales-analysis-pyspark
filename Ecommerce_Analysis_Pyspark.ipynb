{
  "nbformat": 4,
  "nbformat_minor": 0,
  "metadata": {
    "colab": {
      "provenance": []
    },
    "kernelspec": {
      "name": "python3",
      "display_name": "Python 3"
    },
    "language_info": {
      "name": "python"
    }
  },
  "cells": [
    {
      "cell_type": "code",
      "execution_count": 1,
      "metadata": {
        "id": "BCbuEK4YFVay"
      },
      "outputs": [],
      "source": [
        "import pyspark"
      ]
    },
    {
      "cell_type": "code",
      "source": [
        "from pyspark.sql.functions import *\n",
        "from pyspark.sql.types import *\n",
        "from pyspark.sql import SparkSession\n",
        "from pyspark.sql.window import *"
      ],
      "metadata": {
        "id": "Ix2l4Tx-JQ7d"
      },
      "execution_count": 2,
      "outputs": []
    },
    {
      "cell_type": "code",
      "source": [
        "spark = SparkSession.builder.appName(\"ecomm_sales_analysis\").getOrCreate()"
      ],
      "metadata": {
        "id": "t31xGJclJhoE"
      },
      "execution_count": 3,
      "outputs": []
    },
    {
      "cell_type": "code",
      "source": [
        "df = spark.read.csv(\"/content/ecommerce_transactions.csv\",header = True,inferSchema = True)"
      ],
      "metadata": {
        "id": "5-8xJvsYKSFu"
      },
      "execution_count": 4,
      "outputs": []
    },
    {
      "cell_type": "code",
      "source": [
        "df.show(4)"
      ],
      "metadata": {
        "colab": {
          "base_uri": "https://localhost:8080/"
        },
        "id": "p0Lx3coyMDFP",
        "outputId": "cb73fc52-7269-4fa7-f016-55fbd2eb03d8"
      },
      "execution_count": 5,
      "outputs": [
        {
          "output_type": "stream",
          "name": "stdout",
          "text": [
            "+-------+----------+-------------------+---------------+---------+--------+------+--------+---------+-----------+\n",
            "|OrderID|CustomerID|          OrderDate|ProductCategory|ProductID|Quantity| Price|Discount|     City|TotalAmount|\n",
            "+-------+----------+-------------------+---------------+---------+--------+------+--------+---------+-----------+\n",
            "|      1|      1102|2023-01-01 00:00:00|      Groceries|      267|       2|141.25|     0.1|Bangalore|     254.25|\n",
            "|      2|      1435|2023-01-01 01:00:00|           Home|      136|       1|352.76|    0.11|Bangalore|   313.9564|\n",
            "|      3|      1860|2023-01-01 02:00:00|       Clothing|      166|       3|127.93|    0.18|Bangalore|   314.7078|\n",
            "|      4|      1270|2023-01-01 03:00:00|       Clothing|      210|       2|201.78|    0.04|Hyderabad|   387.4176|\n",
            "+-------+----------+-------------------+---------------+---------+--------+------+--------+---------+-----------+\n",
            "only showing top 4 rows\n",
            "\n"
          ]
        }
      ]
    },
    {
      "cell_type": "code",
      "source": [
        "df.printSchema()"
      ],
      "metadata": {
        "colab": {
          "base_uri": "https://localhost:8080/"
        },
        "id": "xM9kPQkhMG5x",
        "outputId": "52534714-017f-4032-f72d-c0968f4346ac"
      },
      "execution_count": 6,
      "outputs": [
        {
          "output_type": "stream",
          "name": "stdout",
          "text": [
            "root\n",
            " |-- OrderID: integer (nullable = true)\n",
            " |-- CustomerID: integer (nullable = true)\n",
            " |-- OrderDate: timestamp (nullable = true)\n",
            " |-- ProductCategory: string (nullable = true)\n",
            " |-- ProductID: integer (nullable = true)\n",
            " |-- Quantity: integer (nullable = true)\n",
            " |-- Price: double (nullable = true)\n",
            " |-- Discount: double (nullable = true)\n",
            " |-- City: string (nullable = true)\n",
            " |-- TotalAmount: double (nullable = true)\n",
            "\n"
          ]
        }
      ]
    },
    {
      "cell_type": "code",
      "source": [
        "df.columns"
      ],
      "metadata": {
        "colab": {
          "base_uri": "https://localhost:8080/"
        },
        "id": "PAzuWkbbMrXZ",
        "outputId": "19815b11-bbec-44a6-cb84-24fef852144f"
      },
      "execution_count": 7,
      "outputs": [
        {
          "output_type": "execute_result",
          "data": {
            "text/plain": [
              "['OrderID',\n",
              " 'CustomerID',\n",
              " 'OrderDate',\n",
              " 'ProductCategory',\n",
              " 'ProductID',\n",
              " 'Quantity',\n",
              " 'Price',\n",
              " 'Discount',\n",
              " 'City',\n",
              " 'TotalAmount']"
            ]
          },
          "metadata": {},
          "execution_count": 7
        }
      ]
    },
    {
      "cell_type": "code",
      "source": [
        "df_clean = df.dropna"
      ],
      "metadata": {
        "id": "EEx_GkHjbKCL"
      },
      "execution_count": 8,
      "outputs": []
    },
    {
      "cell_type": "code",
      "source": [
        "# Drop rows with null values\n",
        "df_clean = df.dropna()\n",
        "\n",
        "# Make sure data types are correct (just in case)\n",
        "df_clean = df_clean.withColumn(\"Quantity\", col(\"Quantity\").cast(\"int\")) \\\n",
        "                   .withColumn(\"Price\", col(\"Price\").cast(\"double\")) \\\n",
        "                   .withColumn(\"Discount\", col(\"Discount\").cast(\"double\")) \\\n",
        "                   .withColumn(\"TotalAmount\", col(\"TotalAmount\").cast(\"double\"))\n"
      ],
      "metadata": {
        "id": "GPnNT2UVbPYC"
      },
      "execution_count": 9,
      "outputs": []
    },
    {
      "cell_type": "code",
      "source": [
        "df_clean.describe().show()"
      ],
      "metadata": {
        "colab": {
          "base_uri": "https://localhost:8080/"
        },
        "id": "K4V6QLRibfT5",
        "outputId": "1d5a5fba-eea1-4da7-a17e-8433e837581f"
      },
      "execution_count": 10,
      "outputs": [
        {
          "output_type": "stream",
          "name": "stdout",
          "text": [
            "+-------+------------------+------------------+---------------+------------------+-----------------+------------------+-------------------+---------+-----------------+\n",
            "|summary|           OrderID|        CustomerID|ProductCategory|         ProductID|         Quantity|             Price|           Discount|     City|      TotalAmount|\n",
            "+-------+------------------+------------------+---------------+------------------+-----------------+------------------+-------------------+---------+-----------------+\n",
            "|  count|             12000|             12000|          12000|             12000|            12000|             12000|              12000|    12000|            12000|\n",
            "|   mean|            6000.5|        1503.07775|           NULL|299.84433333333334|5.062333333333333|252.97765750000124| 0.1514066666666642|     NULL|1085.698542550001|\n",
            "| stddev|3464.2459496981446|289.84651447809534|           NULL|117.12000338323183| 2.56547520500092|143.14218494727658|0.08652337919208777|     NULL|893.2985234408527|\n",
            "|    min|                 1|              1000|          Books|               100|                1|              5.05|                0.0|Bangalore|            5.321|\n",
            "|    max|             12000|              1999|           Home|               499|                9|            499.95|                0.3|   Mumbai|          4445.91|\n",
            "+-------+------------------+------------------+---------------+------------------+-----------------+------------------+-------------------+---------+-----------------+\n",
            "\n"
          ]
        }
      ]
    },
    {
      "cell_type": "markdown",
      "source": [
        "**Top 5 Products by Revenue**"
      ],
      "metadata": {
        "id": "h-zaMvyERpLO"
      }
    },
    {
      "cell_type": "code",
      "source": [
        "top_products = df_clean.groupBy(\"ProductID\").agg(round(sum(\"TotalAmount\"),2).alias(\"Revenue\")).orderBy(desc(\"Revenue\")).limit(5)\n",
        "\n",
        "\n",
        "\n",
        "top_products.show()"
      ],
      "metadata": {
        "colab": {
          "base_uri": "https://localhost:8080/"
        },
        "id": "LpkzVaObRV5E",
        "outputId": "37ecc13b-17a6-4594-d850-a810c6f70e48"
      },
      "execution_count": 58,
      "outputs": [
        {
          "output_type": "stream",
          "name": "stdout",
          "text": [
            "+---------+--------+\n",
            "|ProductID| Revenue|\n",
            "+---------+--------+\n",
            "|      399|56983.24|\n",
            "|      116|55290.78|\n",
            "|      308|55001.79|\n",
            "|      479|49975.63|\n",
            "|      450| 48652.6|\n",
            "+---------+--------+\n",
            "\n"
          ]
        }
      ]
    },
    {
      "cell_type": "markdown",
      "source": [
        "**Monthly Revenue Trends**"
      ],
      "metadata": {
        "id": "wINInshdSrFl"
      }
    },
    {
      "cell_type": "code",
      "source": [
        "monthly_revenue = df_clean.withColumn(\"Month\",month(\"OrderDate\")).groupBy(\"Month\").agg(round(sum(\"TotalAmount\"),2).alias(\"Revenue\")).orderBy(asc(\"Month\"))\n",
        "\n",
        "monthly_revenue.show()"
      ],
      "metadata": {
        "colab": {
          "base_uri": "https://localhost:8080/"
        },
        "id": "kipUANQJR32O",
        "outputId": "002a3bc9-c319-41b9-8a33-687464414e7e"
      },
      "execution_count": 63,
      "outputs": [
        {
          "output_type": "stream",
          "name": "stdout",
          "text": [
            "+-----+----------+\n",
            "|Month|   Revenue|\n",
            "+-----+----------+\n",
            "|    1|1577473.75|\n",
            "|    2|1503039.01|\n",
            "|    3|1647222.09|\n",
            "|    4|1547644.45|\n",
            "|    5| 1141600.4|\n",
            "|    6| 779457.49|\n",
            "|    7| 819879.88|\n",
            "|    8| 779707.55|\n",
            "|    9| 797134.02|\n",
            "|   10| 850604.79|\n",
            "|   11| 776114.68|\n",
            "|   12| 808504.41|\n",
            "+-----+----------+\n",
            "\n"
          ]
        }
      ]
    },
    {
      "cell_type": "markdown",
      "source": [
        "**City Level Revenue**"
      ],
      "metadata": {
        "id": "9e1TsbCrSzHe"
      }
    },
    {
      "cell_type": "code",
      "source": [
        "city_kpi =  df_clean.groupBy(\"City\").agg(round(sum(\"TotalAmount\"),2).alias(\"Total_Revenue\"))\n",
        "\n",
        "city_kpi.show()"
      ],
      "metadata": {
        "colab": {
          "base_uri": "https://localhost:8080/"
        },
        "id": "G_1UvhtL83JZ",
        "outputId": "d6561631-d37c-4145-ae1a-0c9e1065b5d7"
      },
      "execution_count": 11,
      "outputs": [
        {
          "output_type": "stream",
          "name": "stdout",
          "text": [
            "+---------+-------------+\n",
            "|     City|Total_Revenue|\n",
            "+---------+-------------+\n",
            "|Bangalore|   2654310.96|\n",
            "|  Chennai|   2522120.99|\n",
            "|   Mumbai|   2660998.99|\n",
            "|    Delhi|   2631832.35|\n",
            "|Hyderabad|   2559119.22|\n",
            "+---------+-------------+\n",
            "\n"
          ]
        }
      ]
    },
    {
      "cell_type": "code",
      "source": [
        "city_level_revenue_kpi = df_clean.groupBy(\"City\").agg(\n",
        "    round(sum(\"TotalAmount\"),2).alias(\"Total_Revenue\"),\n",
        "    round(max(\"TotalAmount\"),2).alias(\"Max_Revenue\"),\n",
        "    round(min(\"TotalAmount\"),2).alias(\"Min_Revenue\"),\n",
        "    round(avg(\"TotalAmount\"),2).alias(\"Avg_Revenue\")\n",
        ")\n",
        "\n",
        "\n",
        "city_level_revenue_kpi.show()"
      ],
      "metadata": {
        "colab": {
          "base_uri": "https://localhost:8080/"
        },
        "id": "XlwFtNIZerZz",
        "outputId": "e2ddc8aa-bd4c-4c92-aca2-46caedd6738a"
      },
      "execution_count": 12,
      "outputs": [
        {
          "output_type": "stream",
          "name": "stdout",
          "text": [
            "+---------+-------------+-----------+-----------+-----------+\n",
            "|     City|Total_Revenue|Max_Revenue|Min_Revenue|Avg_Revenue|\n",
            "+---------+-------------+-----------+-----------+-----------+\n",
            "|Bangalore|   2654310.96|    4352.52|       6.97|    1081.63|\n",
            "|  Chennai|   2522120.99|    4445.91|       5.64|    1069.15|\n",
            "|   Mumbai|   2660998.99|    4197.12|       5.73|    1099.13|\n",
            "|    Delhi|   2631832.35|    4328.39|       5.32|    1105.35|\n",
            "|Hyderabad|   2559119.22|    4177.48|      10.25|    1073.01|\n",
            "+---------+-------------+-----------+-----------+-----------+\n",
            "\n"
          ]
        }
      ]
    },
    {
      "cell_type": "markdown",
      "source": [
        "**Top 10 Customer Lifetime Value**"
      ],
      "metadata": {
        "id": "S9hV0mgMg45M"
      }
    },
    {
      "cell_type": "code",
      "source": [
        "cust_ltv = df_clean.groupBy(\"CustomerID\").agg(round(sum(\"TotalAmount\"),2).alias(\"CustomerLifetimeValue\")).orderBy(\"CustomerID\").limit(10)\n",
        "\n",
        "cust_ltv.show()"
      ],
      "metadata": {
        "colab": {
          "base_uri": "https://localhost:8080/"
        },
        "id": "0UZM3GEfg-Ha",
        "outputId": "2ec894a0-2af0-4c88-8e6a-c15860c3a298"
      },
      "execution_count": 64,
      "outputs": [
        {
          "output_type": "stream",
          "name": "stdout",
          "text": [
            "+----------+---------------------+\n",
            "|CustomerID|CustomerLifetimeValue|\n",
            "+----------+---------------------+\n",
            "|      1000|             22000.49|\n",
            "|      1001|             15094.88|\n",
            "|      1002|              15745.5|\n",
            "|      1003|              9509.35|\n",
            "|      1004|             12562.45|\n",
            "|      1005|              8167.86|\n",
            "|      1006|             16417.14|\n",
            "|      1007|             13136.36|\n",
            "|      1008|              7952.39|\n",
            "|      1009|             14770.54|\n",
            "+----------+---------------------+\n",
            "\n"
          ]
        }
      ]
    },
    {
      "cell_type": "markdown",
      "source": [
        "**top_categories**"
      ],
      "metadata": {
        "id": "mdtcZAiuj1_W"
      }
    },
    {
      "cell_type": "code",
      "source": [
        "top_categories = df_clean.groupBy(\"ProductCategory\").agg(sum(\"Quantity\").alias(\"Total_sold\")).orderBy(desc(\"Total_sold\"))\n",
        "\n",
        "top_categories.show()"
      ],
      "metadata": {
        "colab": {
          "base_uri": "https://localhost:8080/"
        },
        "id": "yh9cbY9mjISi",
        "outputId": "16d29272-2906-4600-bf85-72d69c6b8035"
      },
      "execution_count": 14,
      "outputs": [
        {
          "output_type": "stream",
          "name": "stdout",
          "text": [
            "+---------------+----------+\n",
            "|ProductCategory|Total_sold|\n",
            "+---------------+----------+\n",
            "|    Electronics|     12534|\n",
            "|       Clothing|     12213|\n",
            "|           Home|     12092|\n",
            "|          Books|     12006|\n",
            "|      Groceries|     11903|\n",
            "+---------------+----------+\n",
            "\n"
          ]
        }
      ]
    },
    {
      "cell_type": "markdown",
      "source": [
        "**Top Discounted Cities**"
      ],
      "metadata": {
        "id": "G6FqPeGQTmUG"
      }
    },
    {
      "cell_type": "code",
      "source": [
        "top_discount_cities = df_clean.groupBy(\"City\") \\\n",
        "                              .agg(round(sum(\"Discount\"),2).alias(\"TotalDiscount\")) \\\n",
        "                              .orderBy(desc(\"TotalDiscount\")) \\\n",
        "                              .limit(5)\n",
        "top_discount_cities.show()"
      ],
      "metadata": {
        "colab": {
          "base_uri": "https://localhost:8080/"
        },
        "id": "gJxQBxraTk08",
        "outputId": "adc9abc6-192f-49ff-bce8-19e1bcc2f972"
      },
      "execution_count": 66,
      "outputs": [
        {
          "output_type": "stream",
          "name": "stdout",
          "text": [
            "+---------+-------------+\n",
            "|     City|TotalDiscount|\n",
            "+---------+-------------+\n",
            "|Bangalore|       370.07|\n",
            "|   Mumbai|       363.83|\n",
            "|Hyderabad|       362.62|\n",
            "|  Chennai|       360.64|\n",
            "|    Delhi|       359.72|\n",
            "+---------+-------------+\n",
            "\n"
          ]
        }
      ]
    },
    {
      "cell_type": "markdown",
      "source": [],
      "metadata": {
        "id": "TFnO0OZmTkht"
      }
    },
    {
      "cell_type": "markdown",
      "source": [
        "**Top-Selling Product Category by City**"
      ],
      "metadata": {
        "id": "jlSp6NcET5ck"
      }
    },
    {
      "cell_type": "code",
      "source": [
        "#window_spec = Window.partitionBy(\"City\").orderBy(desc(\"TotalItemsSold\"))\n",
        "\n",
        "category_by_city = df_clean.groupBy(\"city\",\"ProductCategory\").agg(sum(\"Quantity\").alias(\"TotalItemsSold\"))\n",
        "\n",
        "category_ranked = category_by_city.withColumn(\"Rank\", rank().over(Window.partitionBy(\"City\").orderBy(desc(\"TotalItemsSold\"))))\n",
        "\n",
        "category_ranked.filter(col(\"Rank\") == 1 ).show()\n"
      ],
      "metadata": {
        "colab": {
          "base_uri": "https://localhost:8080/"
        },
        "id": "piEPGjMnqkhQ",
        "outputId": "ed00517f-563e-435d-cb2f-8bdb4914b79b"
      },
      "execution_count": 15,
      "outputs": [
        {
          "output_type": "stream",
          "name": "stdout",
          "text": [
            "+---------+---------------+--------------+----+\n",
            "|     city|ProductCategory|TotalItemsSold|Rank|\n",
            "+---------+---------------+--------------+----+\n",
            "|Bangalore|       Clothing|          2517|   1|\n",
            "|  Chennai|    Electronics|          2536|   1|\n",
            "|    Delhi|       Clothing|          2508|   1|\n",
            "|Hyderabad|    Electronics|          2596|   1|\n",
            "|   Mumbai|    Electronics|          2624|   1|\n",
            "+---------+---------------+--------------+----+\n",
            "\n"
          ]
        }
      ]
    },
    {
      "cell_type": "markdown",
      "source": [
        "**Top discounted product category per city with their total and average discount.**\n"
      ],
      "metadata": {
        "id": "wx_rQELLUEei"
      }
    },
    {
      "cell_type": "code",
      "source": [
        "product_cate = df_clean.groupBy(\"City\", \"ProductCategory\").agg(round(sum(\"Discount\"),2).alias(\"Total_Discount\"),round(avg(\"Discount\"),2).alias(\"avg_discount\"))\n",
        "\n",
        "cate_rank  = product_cate.withColumn(\"Rank\",rank().over(Window.partitionBy(\"City\").orderBy(desc(\"Total_Discount\"))))\n",
        "\n",
        "cate_rank.filter(col(\"Rank\") == 1).show()"
      ],
      "metadata": {
        "colab": {
          "base_uri": "https://localhost:8080/"
        },
        "id": "jAPenZal-jQ6",
        "outputId": "5291c1d5-cd67-456b-e42d-1bf3fd4335aa"
      },
      "execution_count": 28,
      "outputs": [
        {
          "output_type": "stream",
          "name": "stdout",
          "text": [
            "+---------+---------------+--------------+------------+----+\n",
            "|     City|ProductCategory|Total_Discount|avg_discount|Rank|\n",
            "+---------+---------------+--------------+------------+----+\n",
            "|Bangalore|           Home|          76.8|        0.15|   1|\n",
            "|  Chennai|    Electronics|         77.83|        0.15|   1|\n",
            "|    Delhi|      Groceries|         74.51|        0.15|   1|\n",
            "|Hyderabad|    Electronics|         76.09|        0.15|   1|\n",
            "|   Mumbai|    Electronics|         76.89|        0.15|   1|\n",
            "+---------+---------------+--------------+------------+----+\n",
            "\n"
          ]
        }
      ]
    },
    {
      "cell_type": "markdown",
      "source": [
        "**Maximum and Minimum Product Price by City**"
      ],
      "metadata": {
        "id": "xuesYlYiUj0T"
      }
    },
    {
      "cell_type": "code",
      "source": [
        "df_max_min = df_clean.withColumn(\"MaxPriceInCity\", max(\"Price\").over(Window.partitionBy(\"City\"))) \\\n",
        "                     .withColumn(\"MinPriceInCity\", min(\"Price\").over(Window.partitionBy(\"City\")))\n",
        "\n",
        "df_max_min.select(\"City\", \"Price\",\"MinPriceInCity\",\"MaxPriceInCity\").show(10)\n"
      ],
      "metadata": {
        "colab": {
          "base_uri": "https://localhost:8080/"
        },
        "id": "cts-bIEXCB5D",
        "outputId": "6734517f-f7d6-4fa2-d616-4851ef34a1c5"
      },
      "execution_count": 68,
      "outputs": [
        {
          "output_type": "stream",
          "name": "stdout",
          "text": [
            "+---------+------+--------------+--------------+\n",
            "|     City| Price|MinPriceInCity|MaxPriceInCity|\n",
            "+---------+------+--------------+--------------+\n",
            "|Bangalore|141.25|          5.48|         499.9|\n",
            "|Bangalore|352.76|          5.48|         499.9|\n",
            "|Bangalore|127.93|          5.48|         499.9|\n",
            "|Bangalore|131.46|          5.48|         499.9|\n",
            "|Bangalore|334.57|          5.48|         499.9|\n",
            "|Bangalore|455.33|          5.48|         499.9|\n",
            "|Bangalore|333.16|          5.48|         499.9|\n",
            "|Bangalore|144.47|          5.48|         499.9|\n",
            "|Bangalore|153.89|          5.48|         499.9|\n",
            "|Bangalore|324.72|          5.48|         499.9|\n",
            "+---------+------+--------------+--------------+\n",
            "only showing top 10 rows\n",
            "\n"
          ]
        }
      ]
    },
    {
      "cell_type": "markdown",
      "source": [
        "**Average Spend per Order by Customer**"
      ],
      "metadata": {
        "id": "idJtgUvqUqpX"
      }
    },
    {
      "cell_type": "code",
      "source": [
        "avg_byorder = df_clean.withColumn(\"Avg_per_Spend_By_Order\", avg(\"TotalAmount\").over(Window.partitionBy(\"CustomerID\")))\n",
        "\n",
        "\n",
        "avg_byorder.select(\"CustomerID\",\"TotalAmount\",(round(\"Avg_per_Spend_By_Order\",2).alias(\"Avg_per_Spend_By_Order\"))).show()"
      ],
      "metadata": {
        "colab": {
          "base_uri": "https://localhost:8080/"
        },
        "id": "X7PiU52SHzHa",
        "outputId": "6742ad91-bd72-4b28-ecb0-e556882bc4dd"
      },
      "execution_count": 70,
      "outputs": [
        {
          "output_type": "stream",
          "name": "stdout",
          "text": [
            "+----------+------------------+----------------------+\n",
            "|CustomerID|       TotalAmount|Avg_per_Spend_By_Order|\n",
            "+----------+------------------+----------------------+\n",
            "|      1000|           393.666|               1222.25|\n",
            "|      1000|1503.1535999999999|               1222.25|\n",
            "|      1000|          335.1744|               1222.25|\n",
            "|      1000|         2967.2838|               1222.25|\n",
            "|      1000|           441.518|               1222.25|\n",
            "|      1000|           868.912|               1222.25|\n",
            "|      1000|176.23839999999998|               1222.25|\n",
            "|      1000|            45.675|               1222.25|\n",
            "|      1000|           229.035|               1222.25|\n",
            "|      1000|          1547.344|               1222.25|\n",
            "|      1000|         1993.5948|               1222.25|\n",
            "|      1000|          401.8608|               1222.25|\n",
            "|      1000|          557.6756|               1222.25|\n",
            "|      1000|2365.4862000000003|               1222.25|\n",
            "|      1000|          873.0612|               1222.25|\n",
            "|      1000|         4126.3776|               1222.25|\n",
            "|      1000|           1664.28|               1222.25|\n",
            "|      1000|         1510.1583|               1222.25|\n",
            "|      1001|312.67529999999994|               1257.91|\n",
            "|      1001|279.87960000000004|               1257.91|\n",
            "+----------+------------------+----------------------+\n",
            "only showing top 20 rows\n",
            "\n"
          ]
        }
      ]
    },
    {
      "cell_type": "markdown",
      "source": [
        "**Transaction Ranking by Revenue within Each City**"
      ],
      "metadata": {
        "id": "4m5eZ0xNVGJs"
      }
    },
    {
      "cell_type": "code",
      "source": [
        "df_ranks = df_clean.withColumn(\"Row_Number\", row_number().over(Window.partitionBy(\"City\").orderBy(desc(\"TotalAmount\")))) \\\n",
        "                   .withColumn(\"Rank\", rank().over(Window.partitionBy(\"City\").orderBy(desc(\"TotalAmount\")))) \\\n",
        "                   .withColumn(\"DenseRank\", dense_rank().over(Window.partitionBy(\"City\").orderBy(desc(\"TotalAmount\"))))\n",
        "\n",
        "df_ranks.select(\"City\", \"TotalAmount\", \"Row_Number\", \"Rank\", \"DenseRank\").show(5)"
      ],
      "metadata": {
        "colab": {
          "base_uri": "https://localhost:8080/"
        },
        "id": "Zazl2brMI_mo",
        "outputId": "30728a2a-b669-47d9-848c-9b6a64a844ed"
      },
      "execution_count": 47,
      "outputs": [
        {
          "output_type": "stream",
          "name": "stdout",
          "text": [
            "+---------+------------------+----------+----+---------+\n",
            "|     City|       TotalAmount|Row_Number|Rank|DenseRank|\n",
            "+---------+------------------+----------+----+---------+\n",
            "|Bangalore|         4352.5161|         1|   1|        1|\n",
            "|Bangalore|         4293.3996|         2|   2|        2|\n",
            "|Bangalore|4290.4800000000005|         3|   3|        3|\n",
            "|Bangalore|         4195.4832|         4|   4|        4|\n",
            "|Bangalore|           4172.13|         5|   5|        5|\n",
            "+---------+------------------+----------+----+---------+\n",
            "only showing top 5 rows\n",
            "\n"
          ]
        }
      ]
    },
    {
      "cell_type": "markdown",
      "source": [
        "**Order Amount Change Over Time (Per Customer)**"
      ],
      "metadata": {
        "id": "KM_9hTaGVU3_"
      }
    },
    {
      "cell_type": "code",
      "source": [
        "\n",
        "df_lead_lag = df_clean.withColumn(\"PrevOrderAmt\", lag(\"TotalAmount\").over(Window.partitionBy(\"CustomerID\").orderBy(\"OrderDate\")\n",
        ")) \\\n",
        "                      .withColumn(\"NextOrderAmt\", lead(\"TotalAmount\").over(Window.partitionBy(\"CustomerID\").orderBy(\"OrderDate\")\n",
        "))\n",
        "\n",
        "df_lead_lag.select(\"CustomerID\", \"OrderDate\", \"TotalAmount\", \"PrevOrderAmt\", \"NextOrderAmt\").show(5)"
      ],
      "metadata": {
        "colab": {
          "base_uri": "https://localhost:8080/"
        },
        "id": "9tt_F-EGNrhl",
        "outputId": "99ad7ec2-3293-497a-a815-bbc3e916cba1"
      },
      "execution_count": 51,
      "outputs": [
        {
          "output_type": "stream",
          "name": "stdout",
          "text": [
            "+----------+-------------------+------------------+------------------+------------------+\n",
            "|CustomerID|          OrderDate|       TotalAmount|      PrevOrderAmt|      NextOrderAmt|\n",
            "+----------+-------------------+------------------+------------------+------------------+\n",
            "|      1000|2023-02-07 09:00:00|           393.666|              NULL|1503.1535999999999|\n",
            "|      1000|2023-02-13 17:00:00|1503.1535999999999|           393.666|          335.1744|\n",
            "|      1000|2023-02-26 13:00:00|          335.1744|1503.1535999999999|         2967.2838|\n",
            "|      1000|2023-03-08 01:00:00|         2967.2838|          335.1744|           441.518|\n",
            "|      1000|2023-04-26 00:00:00|           441.518|         2967.2838|           868.912|\n",
            "+----------+-------------------+------------------+------------------+------------------+\n",
            "only showing top 5 rows\n",
            "\n"
          ]
        }
      ]
    }
  ]
}